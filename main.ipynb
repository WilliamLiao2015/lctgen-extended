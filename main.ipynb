{
 "cells": [
  {
   "cell_type": "markdown",
   "metadata": {},
   "source": [
    "# Exploring the Impact of Structured Representations in Scenario Generation Based on Large Language Models"
   ]
  },
  {
   "cell_type": "markdown",
   "metadata": {},
   "source": [
    "## Preparation"
   ]
  },
  {
   "cell_type": "code",
   "execution_count": null,
   "metadata": {},
   "outputs": [],
   "source": [
    "import os\n",
    "os.chdir('/content')\n",
    "\n",
    "# fetch codebase\n",
    "CODE_DIR = 'lctgen'\n",
    "os.makedirs(f'./{CODE_DIR}', exist_ok=True)\n",
    "!git clone https://github.com/Ariostgx/lctgen.git $CODE_DIR\n",
    "os.chdir('/content/lctgen')"
   ]
  },
  {
   "cell_type": "code",
   "execution_count": null,
   "metadata": {},
   "outputs": [],
   "source": [
    "%pip install -q -r requirements_colab.txt --quiet\n",
    "%pip install ipympl --quiet"
   ]
  },
  {
   "cell_type": "code",
   "execution_count": null,
   "metadata": {},
   "outputs": [],
   "source": [
    "!gdown https://drive.google.com/uc?id=17_TI-q4qkCOt988spWIZCqDLkZpMSptO -O data.zip\n",
    "!unzip data.zip -d /content/lctgen/data/demo/waymo/"
   ]
  },
  {
   "cell_type": "code",
   "execution_count": null,
   "metadata": {},
   "outputs": [],
   "source": [
    "!gdown https://drive.google.com/uc?id=1_s_35QO6OiHHgDxHHAa7Djadm-_I7Usr -O example.ckpt\n",
    "!mkdir /content/lctgen/checkpoints\n",
    "!mv example.ckpt /content/lctgen/checkpoints"
   ]
  },
  {
   "cell_type": "code",
   "execution_count": null,
   "metadata": {},
   "outputs": [],
   "source": [
    "from google.colab import output\n",
    "\n",
    "output.enable_custom_widget_manager()"
   ]
  },
  {
   "cell_type": "markdown",
   "metadata": {},
   "source": [
    "## Setup"
   ]
  },
  {
   "cell_type": "code",
   "execution_count": null,
   "metadata": {},
   "outputs": [],
   "source": [
    "import torch\n",
    "\n",
    "import itertools\n",
    "import json\n",
    "import math\n",
    "import sys\n",
    "\n",
    "import ipywidgets\n",
    "import matplotlib.animation as animation\n",
    "import matplotlib.pyplot as plt\n",
    "import numpy as np\n",
    "import PIL.Image as Image\n",
    "\n",
    "from datetime import datetime\n",
    "from IPython.display import HTML, Javascript\n",
    "from matplotlib.patches import Wedge\n",
    "from shapely.geometry import Point, Polygon, LineString\n",
    "\n",
    "# LCTGen\n",
    "from lctgen.config.default import get_config\n",
    "from lctgen.core.registry import registry\n",
    "from lctgen.datasets.waymo_open_motion import WaymoOpenMotionDataset\n",
    "from lctgen.inference.utils import output_formating_cot, map_retrival, get_map_data_batch, load_all_map_vectors\n",
    "from lctgen.models.utils import visualize_input_seq, visualize_output_seq, transform_traj_output_to_waymo_agent\n",
    "\n",
    "# TrafficGen\n",
    "from trafficgen.utils.typedef import *\n",
    "from trafficgen.utils.data_process.agent_process import WaymoAgent"
   ]
  },
  {
   "cell_type": "code",
   "execution_count": null,
   "metadata": {},
   "outputs": [],
   "source": [
    "in_colab = \"google.colab\" in sys.modules"
   ]
  },
  {
   "cell_type": "code",
   "execution_count": null,
   "metadata": {},
   "outputs": [],
   "source": [
    "cfg_file = 'cfgs/demo_inference.yaml'\n",
    "cfg = get_config(cfg_file)\n",
    "\n",
    "model_cls = registry.get_model(cfg.MODEL.TYPE)\n",
    "model = model_cls.load_from_checkpoint(cfg.LOAD_CHECKPOINT_PATH, config=cfg, metrics=[], strict=False)\n",
    "model.eval()\n",
    "\n",
    "map_data_file = 'data/demo/waymo/demo_map_vec.npy'\n",
    "map_vecs, map_ids = load_all_map_vectors(map_data_file)"
   ]
  }
 ],
 "metadata": {
  "language_info": {
   "name": "python"
  }
 },
 "nbformat": 4,
 "nbformat_minor": 2
}
