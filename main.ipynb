{
 "cells": [
  {
   "cell_type": "markdown",
   "metadata": {},
   "source": [
    "# Exploring the Impact of Structured Representations in Scenario Generation Based on Large Language Models"
   ]
  },
  {
   "cell_type": "markdown",
   "metadata": {},
   "source": [
    "## Preparation"
   ]
  },
  {
   "cell_type": "code",
   "execution_count": null,
   "metadata": {},
   "outputs": [],
   "source": [
    "import os\n",
    "os.chdir('/content')\n",
    "\n",
    "# fetch codebase\n",
    "CODE_DIR = 'lctgen'\n",
    "os.makedirs(f'./{CODE_DIR}', exist_ok=True)\n",
    "!git clone https://github.com/Ariostgx/lctgen.git $CODE_DIR\n",
    "os.chdir('/content/lctgen')"
   ]
  },
  {
   "cell_type": "code",
   "execution_count": null,
   "metadata": {},
   "outputs": [],
   "source": [
    "%pip install -q -r requirements_colab.txt --quiet\n",
    "%pip install google-generativeai --quiet\n",
    "%pip install ipympl --quiet"
   ]
  },
  {
   "cell_type": "code",
   "execution_count": null,
   "metadata": {},
   "outputs": [],
   "source": [
    "!gdown https://drive.google.com/uc?id=17_TI-q4qkCOt988spWIZCqDLkZpMSptO -O data.zip\n",
    "!unzip data.zip -d /content/lctgen/data/demo/waymo/"
   ]
  },
  {
   "cell_type": "code",
   "execution_count": null,
   "metadata": {},
   "outputs": [],
   "source": [
    "!gdown https://drive.google.com/uc?id=1_s_35QO6OiHHgDxHHAa7Djadm-_I7Usr -O example.ckpt\n",
    "!mkdir /content/lctgen/checkpoints\n",
    "!mv example.ckpt /content/lctgen/checkpoints"
   ]
  },
  {
   "cell_type": "code",
   "execution_count": null,
   "metadata": {},
   "outputs": [],
   "source": [
    "from google.colab import output\n",
    "\n",
    "output.enable_custom_widget_manager()"
   ]
  },
  {
   "cell_type": "markdown",
   "metadata": {},
   "source": [
    "## Setup"
   ]
  },
  {
   "cell_type": "code",
   "execution_count": null,
   "metadata": {},
   "outputs": [],
   "source": [
    "import itertools\n",
    "import json\n",
    "import math\n",
    "import sys\n",
    "\n",
    "import torch\n",
    "import ipywidgets\n",
    "\n",
    "import matplotlib.animation as animation\n",
    "import matplotlib.pyplot as plt\n",
    "import numpy as np\n",
    "import PIL.Image as Image\n",
    "import openai\n",
    "import google.generativeai as genai\n",
    "\n",
    "from google.colab import userdata\n",
    "from datetime import datetime\n",
    "from IPython.display import HTML, Javascript\n",
    "from matplotlib.patches import Wedge\n",
    "from pprint import pprint\n",
    "from shapely.geometry import Point, Polygon, LineString\n",
    "\n",
    "# LCTGen\n",
    "from lctgen.config.default import get_config\n",
    "from lctgen.core.registry import registry\n",
    "from lctgen.datasets.waymo_open_motion import WaymoOpenMotionDataset\n",
    "from lctgen.inference.utils import output_formating_cot, map_retrival, get_map_data_batch, load_all_map_vectors\n",
    "from lctgen.models.utils import visualize_input_seq, visualize_output_seq, transform_traj_output_to_waymo_agent\n",
    "\n",
    "# TrafficGen\n",
    "from trafficgen.utils.typedef import *\n",
    "from trafficgen.utils.data_process.agent_process import WaymoAgent"
   ]
  },
  {
   "cell_type": "code",
   "execution_count": null,
   "metadata": {},
   "outputs": [],
   "source": [
    "in_colab = \"google.colab\" in sys.modules"
   ]
  },
  {
   "cell_type": "code",
   "execution_count": null,
   "metadata": {},
   "outputs": [],
   "source": [
    "cfg_file = 'cfgs/demo_inference.yaml'\n",
    "cfg = get_config(cfg_file)\n",
    "\n",
    "model_cls = registry.get_model(cfg.MODEL.TYPE)\n",
    "model = model_cls.load_from_checkpoint(cfg.LOAD_CHECKPOINT_PATH, config=cfg, metrics=[], strict=False)\n",
    "model.eval()\n",
    "\n",
    "map_data_file = 'data/demo/waymo/demo_map_vec.npy'\n",
    "map_vecs, map_ids = load_all_map_vectors(map_data_file)"
   ]
  },
  {
   "cell_type": "markdown",
   "metadata": {},
   "source": [
    "## LLM"
   ]
  },
  {
   "cell_type": "markdown",
   "metadata": {},
   "source": [
    "### OpenAI API"
   ]
  },
  {
   "cell_type": "code",
   "execution_count": null,
   "metadata": {},
   "outputs": [],
   "source": [
    "openai.organization = userdata.get(\"OPENAI_ORGANIZATION\")\n",
    "openai.api_key = userdata.get(\"OPENAI_API_KEY\")"
   ]
  },
  {
   "cell_type": "code",
   "execution_count": null,
   "metadata": {},
   "outputs": [],
   "source": [
    "llm_model_name = \"gpt-3.5-turbo\" # @param [\"gpt-3.5-turbo\", \"gpt-4\"]\n",
    "\n",
    "llm_cfg = get_config(\"/content/lctgen/lctgen/gpt/cfgs/attr_ind_motion/non_api_cot_attr_20m.yaml\")\n",
    "llm_cfg.merge_from_list([\"LLM.CODEX.MODEL\", llm_model_name])\n",
    "\n",
    "llm_model = registry.get_llm('codex')(llm_cfg)"
   ]
  },
  {
   "cell_type": "code",
   "execution_count": null,
   "metadata": {},
   "outputs": [],
   "source": [
    "query = 'V1 speeds up and crashes V2 from back'  # @param {type:\"string\"}\n",
    "llm_result = llm_model.forward(query)\n",
    "\n",
    "print('LLM inference result:')\n",
    "print(llm_result)"
   ]
  },
  {
   "cell_type": "markdown",
   "metadata": {},
   "source": [
    "### Google AI Studio API"
   ]
  },
  {
   "cell_type": "code",
   "execution_count": null,
   "metadata": {},
   "outputs": [],
   "source": [
    "genai.configure(api_key=userdata.get(\"GOOGLE_API_KEY\"))\n",
    "\n",
    "for llm_model in genai.list_models():\n",
    "    pprint(llm_model)"
   ]
  },
  {
   "cell_type": "code",
   "execution_count": null,
   "metadata": {},
   "outputs": [],
   "source": [
    "genai.configure(api_key=userdata.get(\"GOOGLE_API_KEY\"))\n",
    "\n",
    "# Set up the model\n",
    "generation_config = {\n",
    "    \"temperature\": 0.9,\n",
    "    \"top_p\": 1,\n",
    "    \"top_k\": 1,\n",
    "    \"max_output_tokens\": 2048,\n",
    "}\n",
    "\n",
    "safety_settings = [\n",
    "    {\n",
    "        \"category\": \"HARM_CATEGORY_HARASSMENT\",\n",
    "        \"threshold\": \"BLOCK_MEDIUM_AND_ABOVE\"\n",
    "    },\n",
    "    {\n",
    "        \"category\": \"HARM_CATEGORY_HATE_SPEECH\",\n",
    "        \"threshold\": \"BLOCK_MEDIUM_AND_ABOVE\"\n",
    "    },\n",
    "    {\n",
    "        \"category\": \"HARM_CATEGORY_SEXUALLY_EXPLICIT\",\n",
    "        \"threshold\": \"BLOCK_MEDIUM_AND_ABOVE\"\n",
    "    },\n",
    "    {\n",
    "        \"category\": \"HARM_CATEGORY_DANGEROUS_CONTENT\",\n",
    "        \"threshold\": \"BLOCK_MEDIUM_AND_ABOVE\"\n",
    "    },\n",
    "]\n",
    "\n",
    "llm_model = genai.GenerativeModel(model_name=\"gemini-1.0-pro-latest\", generation_config=generation_config, safety_settings=safety_settings)"
   ]
  },
  {
   "cell_type": "code",
   "execution_count": null,
   "metadata": {},
   "outputs": [],
   "source": [
    "query = 'V1 goes straight and collides with V2 while V2 turns left'  # @param {type:\"string\"}\n",
    "\n",
    "\n",
    "prompt = \"## INSTRUCTIONS\\n\"\n",
    "\n",
    "with open(\"/content/lctgen/lctgen/gpt/prompts/attr_ind_motion/sys_non_api_cot_attr_20m.prompt\") as fp:\n",
    "    prompt += fp.read()\n",
    "\n",
    "prompt += \"\\n---\\n## QUERIES\\n\"\n",
    "\n",
    "with open(\"/content/lctgen/lctgen/gpt/prompts/attr_ind_motion/non_api_cot_attr_20m.prompt\") as fp:\n",
    "    prompt += fp.read()\n",
    "\n",
    "prompt = prompt.replace(\"INSERT_QUERY_HERE\", query)\n",
    "\n",
    "print(\"Prompt:\")\n",
    "print(prompt)\n",
    "print(\"\\n\\n\\n\")\n",
    "\n",
    "\n",
    "result = llm_model.generate_content(prompt)\n",
    "llm_result = result.text\n",
    "\n",
    "\n",
    "print(\"LLM inference result:\")\n",
    "print(llm_result)"
   ]
  },
  {
   "cell_type": "markdown",
   "metadata": {},
   "source": [
    "### Predefined Result"
   ]
  },
  {
   "cell_type": "code",
   "execution_count": null,
   "metadata": {},
   "outputs": [],
   "source": [
    "llm_result = \"\"\"\n",
    "Actor Vector:\n",
    "- 'V1': [-1, 0, 0, 6, 4, 3, 3, 3]\n",
    "- 'V2': [0, 0, 1, 1, 1, 1, 1, 1]\n",
    "- 'V3': [2, 0, 0, 2, 4, 4, 3, 3]\n",
    "- 'V4': [1, 0, 1, 2, 4, 4, 3, 3]\n",
    "- 'V5': [0, 1, 2, 0, 0, 0, 0, 0]\n",
    "- 'V6': [0, 1, 2, 0, 0, 0, 0, 0]\n",
    "- 'V7': [0, 1, 2, 0, 0, 0, 0, 0]\n",
    "- 'V8': [0, 1, 2, 0, 0, 0, 0, 0]\n",
    "- 'V9': [0, 1, 1, 2, 4, 4, 4, 4]\n",
    "- 'V10': [0, 1, 1, 2, 4, 4, 4, 4]\n",
    "- 'V11': [0, 1, 1, 1, 4, 4, 4, 4]\n",
    "- 'V12': [3, 1, 0, 2, 4, 4, 4, 4]\n",
    "Map Vector:\n",
    "- 'Map': [2, 2, 2, 2, 1, 2]\n",
    "\"\"\""
   ]
  },
  {
   "cell_type": "markdown",
   "metadata": {},
   "source": [
    "## Utils"
   ]
  },
  {
   "cell_type": "markdown",
   "metadata": {},
   "source": [
    "### Type"
   ]
  },
  {
   "cell_type": "code",
   "execution_count": null,
   "metadata": {},
   "outputs": [],
   "source": [
    "def is_number(x):\n",
    "    try: return float(x) != None\n",
    "    except ValueError: return False"
   ]
  },
  {
   "cell_type": "markdown",
   "metadata": {},
   "source": [
    "### Geometry"
   ]
  },
  {
   "cell_type": "code",
   "execution_count": null,
   "metadata": {},
   "outputs": [],
   "source": [
    "def compute_magnitude(x, y):\n",
    "    return (x ** 2 + y ** 2) ** 0.5"
   ]
  },
  {
   "cell_type": "markdown",
   "metadata": {},
   "source": [
    "### Display\n",
    "\n",
    "- V1: red (ego car)\n",
    "- V2: blue\n",
    "- V3: orange\n",
    "- V4: green\n",
    "- V5: purple\n",
    "- V6: brown\n",
    "- V7: pink\n",
    "- V8: gray\n",
    "- V9: olive\n",
    "- V10: cyan\n",
    "- V11 (V2): blue\n",
    "- V12 (V3): orange\n",
    "- V13 (V4): green\n",
    "- ..."
   ]
  },
  {
   "cell_type": "code",
   "execution_count": null,
   "metadata": {},
   "outputs": [],
   "source": [
    "def draw(center, agents, traj=None, other=None, edge=None, heat_map=False):\n",
    "    ax = plt.gca()\n",
    "    plt.axis('equal')\n",
    "\n",
    "    colors = ['tab:red', 'tab:blue', 'tab:orange', 'tab:green', 'tab:purple', 'tab:brown', 'tab:pink', 'tab:gray', 'tab:olive', 'tab:cyan']\n",
    "    lane_color = 'black'\n",
    "    alpha = 0.12\n",
    "    linewidth = 3\n",
    "\n",
    "    if heat_map:\n",
    "        lane_color = 'white'\n",
    "        alpha = 0.2\n",
    "        linewidth = 6\n",
    "\n",
    "    ax.axis('off')\n",
    "\n",
    "    for j in range(center.shape[0]):\n",
    "        traf_state = center[j, -1]\n",
    "\n",
    "        x0, y0, x1, y1, = center[j, :4]\n",
    "\n",
    "        if x0 == 0: break\n",
    "        ax.plot((x0, x1), (y0, y1), '--', color=lane_color, linewidth=1, alpha=0.2)\n",
    "\n",
    "        if traf_state == 1:\n",
    "            color = 'red'\n",
    "            ax.plot((x0, x1), (y0, y1), color=color, alpha=alpha, linewidth=linewidth, zorder=5000)\n",
    "        elif traf_state == 2:\n",
    "            color = 'yellow'\n",
    "            ax.plot((x0, x1), (y0, y1), color=color, alpha=alpha, linewidth=linewidth, zorder=5000)\n",
    "        elif traf_state == 3:\n",
    "            color = 'green'\n",
    "            ax.plot((x0, x1), (y0, y1), color=color, alpha=alpha, linewidth=linewidth, zorder=5000)\n",
    "\n",
    "    if edge is not None:\n",
    "        for j in range(len(edge)):\n",
    "\n",
    "            # if lane[j, k, -1] == 0: continue\n",
    "            x0, y0, x1, y1, = edge[j, :4]\n",
    "            if x0 == 0: break\n",
    "            ax.plot((x0, x1), (y0, y1), lane_color, linewidth=1.5)\n",
    "            # ax.arrow(x0, y0, x1-x0, y1-y0,head_width=1.5,head_length=0.75,width = 0.1)\n",
    "\n",
    "    if other is not None:\n",
    "        for j in range(len(other)):\n",
    "\n",
    "            # if lane[j, k, -1] == 0: continue\n",
    "            x0, y0, x1, y1, = other[j, :4]\n",
    "            if x0 == 0: break\n",
    "            ax.plot((x0, x1), (y0, y1), lane_color, linewidth=0.7, alpha=0.9)\n",
    "\n",
    "    for i in range(len(agents)):\n",
    "        agent_position = agents[i].position[0]\n",
    "        if abs(agent_position[0]) > 45 or abs(agent_position[1]) > 45: continue\n",
    "\n",
    "        # if i in collide: continue\n",
    "        if i == 0:\n",
    "            col = colors[0]\n",
    "        else:\n",
    "            ind = (i-1) % 9 + 1\n",
    "            col = colors[ind]\n",
    "            if traj is not None:\n",
    "                traj_i = traj[:, i]\n",
    "                len_t = traj_i.shape[0] - 1\n",
    "                for j in range(len_t):\n",
    "                    x0, y0 = traj_i[j]\n",
    "                    x1, y1 = traj_i[j + 1]\n",
    "\n",
    "                    if abs(x0) < 60 and abs(y0) < 60 and abs(x1) < 60 and abs(y1) < 60:\n",
    "                        ax.plot((x0, x1), (y0, y1), '-', color=col, linewidth=1.8, marker='.', markersize=3)\n",
    "\n",
    "        agent = agents[i]\n",
    "        rect = agent.get_rect()[0]\n",
    "        rect = plt.Polygon(rect, edgecolor='black', facecolor=col, linewidth=0.5, zorder=10000)\n",
    "        ax.add_patch(rect)\n",
    "\n",
    "    # ax.set_facecolor('black')\n",
    "    plt.autoscale()\n",
    "    plt.xlim([-60, 60])\n",
    "    plt.ylim([-60, 60])"
   ]
  },
  {
   "cell_type": "code",
   "execution_count": null,
   "metadata": {},
   "outputs": [],
   "source": [
    "def visualize(data, agents, t = 0):\n",
    "    center = data[\"center\"][0].cpu().numpy()\n",
    "    bound = data[\"bound\"][0].cpu().numpy()\n",
    "    rest = data[\"rest\"][0].cpu().numpy()\n",
    "\n",
    "    draw(center, agents[t], other=rest, edge=bound)\n",
    "\n",
    "    ax = plt.gca()\n",
    "    ax.text(-60, 60, f\"Timestep {t + 1}\", fontsize=12, color=\"black\", weight=\"bold\")\n",
    "\n",
    "    return ax"
   ]
  },
  {
   "cell_type": "code",
   "execution_count": null,
   "metadata": {},
   "outputs": [],
   "source": [
    "def copy_text_button(text: str) -> ipywidgets.Widget:\n",
    "\tbutton = ipywidgets.Button(description=\"Copy\", icon=\"copy\")\n",
    "\toutput = ipywidgets.Output(layout=ipywidgets.Layout(display=\"none\"))\n",
    "\tcopy_js = Javascript(f\"navigator.clipboard.writeText({json.dumps(text)})\")\n",
    "\n",
    "\tdef on_click(_: ipywidgets.Button) -> None:\n",
    "\t\toutput.clear_output()\n",
    "\t\toutput.append_display_data(copy_js)\n",
    "\tbutton.on_click(on_click)\n",
    "\n",
    "\treturn ipywidgets.Box((button, output))"
   ]
  },
  {
   "cell_type": "markdown",
   "metadata": {},
   "source": [
    "## Evaluation"
   ]
  },
  {
   "cell_type": "markdown",
   "metadata": {},
   "source": [
    "### Inference"
   ]
  },
  {
   "cell_type": "code",
   "execution_count": null,
   "metadata": {},
   "outputs": [],
   "source": [
    "%matplotlib widget\n",
    "\n",
    "\n",
    "# format LLM output to Structured Representation (agent and map vectors)\n",
    "MIN_LENGTH = 4.0\n",
    "MIN_WIDTH = 1.5\n",
    "\n",
    "MAX_TIMESTEPS = 50\n",
    "MAX_AGENT_NUM = 32\n",
    "\n",
    "agent_vector, map_vector = output_formating_cot(llm_result)\n",
    "\n",
    "agent_num = len(agent_vector)\n",
    "vector_dim = len(agent_vector[0])\n",
    "agent_vector = agent_vector + [[-1]*vector_dim] * (MAX_AGENT_NUM - agent_num)\n",
    "\n",
    "# retrive map from map dataset\n",
    "sorted_idx = map_retrival(map_vector, map_vecs)[:1]\n",
    "map_id = map_ids[sorted_idx[0]]\n",
    "\n",
    "# load map data\n",
    "data = get_map_data_batch(map_id, cfg)\n",
    "\n",
    "# inference with LLM-output Structured Representation\n",
    "data['text'] = torch.tensor(agent_vector, dtype=data['text'].dtype)[None, ...]\n",
    "data['agent_mask'] = torch.tensor([1]*agent_num + [0]*(MAX_AGENT_NUM - agent_num), dtype=data['agent_mask'].dtype)[None, ...]\n",
    "\n",
    "model_output = model.forward(data, 'val')['text_decode_output']\n",
    "output_scene = model.process(model_output, data, num_limit=1, with_attribute=True, pred_ego=True, pred_motion=True)\n",
    "\n",
    "agents = transform_traj_output_to_waymo_agent(output_scene[0])\n",
    "\n",
    "for t in range(MAX_TIMESTEPS):\n",
    "    for agent in agents[t]:\n",
    "        agent.length_width = np.clip(agent.length_width, [MIN_LENGTH, MIN_WIDTH], [10.0, 5.0])"
   ]
  },
  {
   "cell_type": "markdown",
   "metadata": {},
   "source": [
    "### Visualize"
   ]
  },
  {
   "cell_type": "code",
   "execution_count": null,
   "metadata": {},
   "outputs": [],
   "source": [
    "visualizations = [\n",
    "    visualize_overlapped_area,\n",
    "    visualize_road_collisions,\n",
    "    visualize_car_collisions,\n",
    "    visualize_minimum_speed\n",
    "]\n",
    "evaluations = [\n",
    "    evaluate_overlapped_area,\n",
    "    evaluate_road_collisions,\n",
    "    evaluate_car_collisions,\n",
    "    evaluate_minimum_speed\n",
    "]\n",
    "\n",
    "results = {}\n",
    "\n",
    "\n",
    "def visualize_all(data, agents, t, visualizations=visualizations):\n",
    "    plt.gca().cla()\n",
    "    visualize(data, agents, t)\n",
    "    for i, method in enumerate(visualizations):\n",
    "        method(data, agents, t, 55 - 5 * (i + 1))\n",
    "\n",
    "\n",
    "for evaluation in evaluations:\n",
    "    method_name = evaluation.__name__\n",
    "    print(f\"Evaluating method: {method_name}\")\n",
    "    results[evaluation] = []\n",
    "    for t in range(50):\n",
    "        results[evaluation].append(evaluation(data, agents, t))\n",
    "    print(evaluation.__doc__.format(result=np.mean(results[evaluation])))\n",
    "    print()\n",
    "\n",
    "\n",
    "print(\"Copy state as text:\")\n",
    "state_str = \"\"\n",
    "lines = json.dumps({\n",
    "    \"query\": query if query else \"\",\n",
    "    \"llm_result\": llm_result,\n",
    "    \"results\": {evaluation.__name__: values for evaluation, values in results.items()}\n",
    "}, indent=2).splitlines()\n",
    "for i, line in enumerate(lines):\n",
    "    previous = is_number(lines[i - 1].strip().replace(\",\", \"\")) if i > 0 else False\n",
    "    current = is_number(line.strip().replace(\",\", \"\"))\n",
    "    next = is_number(lines[i + 1].strip().replace(\",\", \"\")) if i < len(lines) - 1 else False\n",
    "    if current: state_str += line.strip()\n",
    "    elif next: state_str += line.rstrip()\n",
    "    elif previous: state_str += line.lstrip() + \"\\n\"\n",
    "    else: state_str += line + \"\\n\"\n",
    "display(copy_text_button(state_str))\n",
    "print()\n",
    "\n",
    "\n",
    "fig = plt.gcf()\n",
    "fig.set_size_inches(5, 5)\n",
    "fig.set_dpi(100)\n",
    "\n",
    "anim = animation.FuncAnimation(fig, lambda t: visualize_all(data, agents, t), frames=50, interval=100, repeat=False)\n",
    "anim_html = anim.to_jshtml()\n",
    "display(HTML(anim_html))"
   ]
  },
  {
   "cell_type": "markdown",
   "metadata": {},
   "source": [
    "### Save"
   ]
  },
  {
   "cell_type": "code",
   "execution_count": null,
   "metadata": {},
   "outputs": [],
   "source": [
    "current_time = datetime.now().strftime(\"%Y-%m-%d %H:%M:%S\")\n",
    "save_to = \"/content/lctgen_records\"\n",
    "\n",
    "if not os.path.exists(save_to):\n",
    "    os.mkdir(save_to)\n",
    "\n",
    "state_dir = f\"{save_to}/{current_time}.json\"\n",
    "print(f\"Saving state to \\\"{state_dir}\\\"\")\n",
    "with open(state_dir, \"w\", encoding=\"utf-8\") as fp:\n",
    "    fp.write(state_str)\n",
    "\n",
    "html_dir = f\"{save_to}/{current_time}.html\"\n",
    "print(f\"Saving HTML to \\\"{html_dir}\\\"\")\n",
    "with open(html_dir, \"w\", encoding=\"utf-8\") as fp:\n",
    "    fp.write(anim_html)"
   ]
  },
  {
   "cell_type": "code",
   "execution_count": null,
   "metadata": {},
   "outputs": [],
   "source": [
    "!zip -j /content/lctgen_records.zip /content/lctgen_records/*"
   ]
  }
 ],
 "metadata": {
  "language_info": {
   "name": "python"
  }
 },
 "nbformat": 4,
 "nbformat_minor": 2
}
